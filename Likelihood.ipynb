{
 "cells": [
  {
   "cell_type": "code",
   "execution_count": 1,
   "metadata": {
    "collapsed": false
   },
   "outputs": [],
   "source": [
    "import numpy as np\n",
    "import matplotlib.pyplot as plt\n",
    "import matplotlib.image as mpimg\n",
    "import glob\n",
    "\n",
    "from sklearn.neighbors.kde import KernelDensity\n",
    "from sklearn.neighbors import DistanceMetric\n",
    "\n",
    "import sys\n",
    "sys.path.insert(0, 'src/')\n",
    "from create_dataset import *\n",
    "\n",
    "%matplotlib inline"
   ]
  },
  {
   "cell_type": "markdown",
   "metadata": {},
   "source": [
    "## Dataset Loading"
   ]
  },
  {
   "cell_type": "code",
   "execution_count": 11,
   "metadata": {
    "collapsed": false
   },
   "outputs": [
    {
     "data": {
      "text/plain": [
       "<matplotlib.image.AxesImage at 0x7f9254cc5790>"
      ]
     },
     "execution_count": 11,
     "metadata": {},
     "output_type": "execute_result"
    },
    {
     "data": {
      "image/png": "[encoded data removed]",
      "text/plain": [
       "<matplotlib.figure.Figure at 0x7f9254cc5390>"
      ]
     },
     "metadata": {},
     "output_type": "display_data"
    }
   ],
   "source": [
    "t = 0.01\n",
    "\n",
    "def load_flatten_images(paths):\n",
    "    images = []\n",
    "    for p in paths:\n",
    "        img = mpimg.imread(p).flatten()\n",
    "        img[img > t] = 1.0\n",
    "        img[img < t] = 0.0\n",
    "        images.append(img.astype(int))\n",
    "    return np.array(images)\n",
    "\n",
    "def load_flatten_voxels(paths, t=0.1):\n",
    "    voxels = []\n",
    "    for p in paths:\n",
    "        vox = np.load(p).flatten()\n",
    "        vox[vox > t] = 1.0\n",
    "        vox[vox < t] = 0.0\n",
    "        voxels.append(vox.astype(int))\n",
    "    return np.array(voxels)\n",
    "\n",
    "def load_voxels(paths):\n",
    "    voxels = []\n",
    "    for p in paths:\n",
    "        vox = np.load(p)\n",
    "        vox[vox > t] = 1.0\n",
    "        vox[vox < t] = 0.0\n",
    "        voxels.append(vox.astype(int))\n",
    "    return np.array(voxels)\n",
    "\n",
    "#Images\n",
    "data_images = load_flatten_images(glob.glob(\"data/chairs_blur/*.png\"))\n",
    "prgan_images = load_flatten_images(glob.glob(\"results/PrGANchairs_blur/image*.png\"))\n",
    "gan2d_images = load_flatten_images(glob.glob(\"results/ImageGANchairs_blur/image*.png\"))\n",
    "\n",
    "#Volumes\n",
    "data_voxels = load_flatten_voxels(glob.glob(\"data/chairs_voxel/*.npy\"))\n",
    "prgan_voxels = load_voxels(glob.glob(\"results/PrGANchairs_blur/*.npy\"))\n",
    "gan3d_voxels = load_flatten_voxels(glob.glob(\"results/VoxelGANchairs_voxel/*.npy\"))\n",
    "\n",
    "plt.imshow(np.reshape(data_images[1],(32,32)), interpolation='none', cmap='gray')\n",
    "plt.imshow(np.reshape(gan2d_images[5],(32,32)), interpolation='none', cmap='gray')"
   ]
  },
  {
   "cell_type": "code",
   "execution_count": null,
   "metadata": {
    "collapsed": true
   },
   "outputs": [],
   "source": [
    "test_volume = np.reshape(prgan_voxels[0], (32,32,32))\n"
   ]
  },
  {
   "cell_type": "raw",
   "metadata": {},
   "source": []
  },
  {
   "cell_type": "markdown",
   "metadata": {},
   "source": [
    "#### Computes data distance matrix"
   ]
  },
  {
   "cell_type": "code",
   "execution_count": 9,
   "metadata": {
    "collapsed": false
   },
   "outputs": [],
   "source": [
    "def median_distance(data):\n",
    "    dist = DistanceMetric.get_metric('hamming')\n",
    "    dist_matrix = dist.pairwise(data)\n",
    "    dm = np.eye(dist_matrix.shape[0])*1000 + dist_matrix\n",
    "    return np.median(np.min(dm, axis=0))"
   ]
  },
  {
   "cell_type": "code",
   "execution_count": 12,
   "metadata": {
    "collapsed": false
   },
   "outputs": [
    {
     "name": "stdout",
     "output_type": "stream",
     "text": [
      "0.140234375\n",
      "0.11052734375\n",
      "0.089599609375\n",
      "0.0147512530413\n"
     ]
    }
   ],
   "source": [
    "print median_distance(data_images[0:10, :])\n",
    "print median_distance(data_images[0:50, :])\n",
    "print median_distance(data_images[0:100, :])\n",
    "print median_distance(data_images)"
   ]
  },
  {
   "cell_type": "markdown",
   "metadata": {},
   "source": [
    "## Kernel Density Estimation"
   ]
  },
  {
   "cell_type": "code",
   "execution_count": 56,
   "metadata": {
    "collapsed": false
   },
   "outputs": [
    {
     "name": "stdout",
     "output_type": "stream",
     "text": [
      "ImageGAN:  4037.55620661\n",
      "PrGAN:  4384.03616285\n",
      "VoxelGAN:  195225.562543\n",
      "PrGAN:  195760.269905\n"
     ]
    },
    {
     "data": {
      "image/png": "[encoded data removed]",
      "text/plain": [
       "<matplotlib.figure.Figure at 0x7f551636ba10>"
      ]
     },
     "metadata": {},
     "output_type": "display_data"
    }
   ],
   "source": [
    "bw = np.median(np.min(dm, axis=0))\n",
    "kde_2d = KernelDensity(kernel='gaussian', metric='hamming', bandwidth=bw).fit(data_images)\n",
    "plt.imshow(np.reshape(kde.sample(),(32,32)), interpolation='none', cmap='gray')\n",
    "gan2d_ll = np.mean(kde.score_samples(gan2d_images))\n",
    "prgan_ll = np.mean(kde.score_samples(prgan_images))\n",
    "print \"ImageGAN: \", gan2d_ll\n",
    "print \"PrGAN: \", prgan_ll\n",
    "\n",
    "bw3d = np.median(np.min(dm, axis=0))\n",
    "kde_voxels = KernelDensity(kernel='gaussian', metric='hamming', bandwidth=bw3d).fit(data_voxels)\n",
    "gan3d_ll = np.mean(kde_voxels.score_samples(gan3d_voxels))\n",
    "prgan3d_ll = np.mean(kde_voxels.score_samples(prgan_voxels))\n",
    "print \"VoxelGAN: \", gan3d_ll\n",
    "print \"PrGAN: \", prgan3d_ll"
   ]
  },
  {
   "cell_type": "code",
   "execution_count": 4,
   "metadata": {
    "collapsed": false
   },
   "outputs": [
    {
     "name": "stdout",
     "output_type": "stream",
     "text": [
      "90.1269040761\n",
      "88.3092782081\n"
     ]
    }
   ],
   "source": [
    "def mmd (x, y, bw):\n",
    "    kde_data = KernelDensity(kernel='gaussian', metric='hamming', bandwidth=bw).fit(x)\n",
    "    kde_sample = KernelDensity(kernel='gaussian', metric='hamming', bandwidth=bw).fit(y)\n",
    "    \n",
    "    xx = np.mean(kde_data.score_samples(x))\n",
    "    yy = np.mean(kde_sample.score_samples(y))\n",
    "    xy = np.mean(kde_data.score_samples(y))\n",
    "    \n",
    "    return np.power(xx - xy + yy, 0.5)\n",
    "\n",
    "def mmd_voxels_synth(x, y, bw):\n",
    "    kde_data = KernelDensity(kernel='gaussian', metric='hamming', bandwidth=bw).fit(x)\n",
    "    vy = y.copy().reshape((y.shape[0], y.shape[1]**3))\n",
    "    xx = np.mean(kde_data.score_samples(x))\n",
    "    dists = []\n",
    "    for theta in np.linspace(0, 2*np.pi, 8, endpoint=False):\n",
    "        for v in range(vy.shape[0]):\n",
    "            vy[v,:] = transform_volume(y[v,:,:,:], theta).flatten()\n",
    "        kde_sample = KernelDensity(kernel='gaussian', metric='hamming', bandwidth=0.001).fit(vy)\n",
    "        yy = np.mean(kde_sample.score_samples(vy))\n",
    "        xy = np.mean(kde_data.score_samples(vy))\n",
    "        dists.append(np.power(xx - xy + yy, 0.5))\n",
    "    return np.amin(np.array(dists))\n",
    "        \n",
    "\n",
    "print mmd(data_images, gan2d_images, 0.001)\n",
    "print mmd(data_images, prgan_images, 0.001)"
   ]
  },
  {
   "cell_type": "code",
   "execution_count": 12,
   "metadata": {
    "collapsed": false
   },
   "outputs": [
    {
     "name": "stdout",
     "output_type": "stream",
     "text": [
      "347.547338092\n",
      "442.985320022\n"
     ]
    }
   ],
   "source": [
    "print mmd(data_voxels, gan3d_voxels, 0.01)\n",
    "print mmd_voxels_synth(data_voxels, prgan_voxels[0:64,:,:,:], 0.01)"
   ]
  },
  {
   "cell_type": "code",
   "execution_count": 13,
   "metadata": {
    "collapsed": false
   },
   "outputs": [
    {
     "name": "stdout",
     "output_type": "stream",
     "text": [
      "(64, 32768)\n"
     ]
    }
   ],
   "source": [
    "print gan3d_voxels.shape"
   ]
  },
  {
   "cell_type": "code",
   "execution_count": 17,
   "metadata": {
    "collapsed": false
   },
   "outputs": [
    {
     "name": "stdout",
     "output_type": "stream",
     "text": [
      "442.988800166\n",
      "442.984726061\n",
      "442.9878173\n"
     ]
    }
   ],
   "source": [
    "prgan_1v = load_voxels(glob.glob(\"results/PrGANchairs_1view/*.npy\"))\n",
    "prgan_2v = load_voxels(glob.glob(\"results/PrGANchairs_2view/*.npy\"))\n",
    "prgan_4v = load_voxels(glob.glob(\"results/PrGANchairs_4view/*.npy\"))\n",
    "\n",
    "print mmd_voxels_synth(data_voxels, prgan_1v[0:64,:,:,:], 0.01)\n",
    "print mmd_voxels_synth(data_voxels, prgan_2v[0:64,:,:,:], 0.01)\n",
    "print mmd_voxels_synth(data_voxels, prgan_4v[0:64,:,:,:], 0.01)"
   ]
  },
  {
   "cell_type": "code",
   "execution_count": null,
   "metadata": {
    "collapsed": true
   },
   "outputs": [],
   "source": []
  }
 ],
 "metadata": {
  "kernelspec": {
   "display_name": "Python 2",
   "language": "python",
   "name": "python2"
  },
  "language_info": {
   "codemirror_mode": {
    "name": "ipython",
    "version": 2
   },
   "file_extension": ".py",
   "mimetype": "text/x-python",
   "name": "python",
   "nbconvert_exporter": "python",
   "pygments_lexer": "ipython2",
   "version": "2.7.6"
  }
 },
 "nbformat": 4,
 "nbformat_minor": 0
}
